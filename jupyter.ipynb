{
 "cells": [
  {
   "cell_type": "markdown",
   "metadata": {},
   "source": [
    "# Discover and Visualise the Data"
   ]
  },
  {
   "cell_type": "markdown",
   "metadata": {},
   "source": [
    "## Import Libraries"
   ]
  },
  {
   "cell_type": "code",
   "execution_count": 1,
   "metadata": {
    "execution": {
     "iopub.execute_input": "2023-08-20T07:01:58.562158Z",
     "iopub.status.busy": "2023-08-20T07:01:58.560919Z",
     "iopub.status.idle": "2023-08-20T07:01:59.928518Z",
     "shell.execute_reply": "2023-08-20T07:01:59.928161Z",
     "shell.execute_reply.started": "2023-08-20T07:01:58.562105Z"
    }
   },
   "outputs": [
    {
     "name": "stderr",
     "output_type": "stream",
     "text": [
      "/home/hduser/.local/lib/python3.10/site-packages/scipy/__init__.py:146: UserWarning: A NumPy version >=1.16.5 and <1.23.0 is required for this version of SciPy (detected version 1.26.4\n",
      "  warnings.warn(f\"A NumPy version >={np_minversion} and <{np_maxversion}\"\n"
     ]
    }
   ],
   "source": [
    "import os\n",
    "import sys\n",
    "\n",
    "os.environ['PYSPARK_PYTHON'] = sys.executable\n",
    "os.environ['PYSPARK_DRIVER_PYTHON'] = sys.executable\n",
    "\n",
    "# import libraries\n",
    "import pandas as pd\n",
    "import numpy as np\n",
    "import seaborn as sns\n",
    "import matplotlib.pyplot as plt\n",
    "from pylab import rcParams\n",
    "\n",
    "\n",
    "from pyspark.sql import SparkSession\n",
    "from pyspark.sql.functions import col\n",
    "from pyspark.ml import Pipeline\n",
    "from pyspark.ml.feature import StandardScaler, VectorAssembler, StringIndexer\n",
    "from pyspark.ml.classification import RandomForestClassifier, LogisticRegression, LinearSVC\n",
    "from pyspark.ml.evaluation import MulticlassClassificationEvaluator, BinaryClassificationEvaluator\n",
    "from pyspark.ml.tuning import ParamGridBuilder, CrossValidator\n",
    "from pyspark.mllib.evaluation import BinaryClassificationMetrics\n",
    "from pyspark.ml.classification import MultilayerPerceptronClassifier\n",
    "from sklearn.metrics import confusion_matrix, classification_report"
   ]
  },
  {
   "cell_type": "markdown",
   "metadata": {},
   "source": [
    "## Functions definition "
   ]
  },
  {
   "cell_type": "markdown",
   "metadata": {},
   "source": [
    "### Read in file"
   ]
  },
  {
   "cell_type": "code",
   "execution_count": 2,
   "metadata": {},
   "outputs": [],
   "source": [
    "import pandas as pd\n",
    "pd.DataFrame.iteritems = pd.DataFrame.items\n",
    "train_df = pd.read_csv('training-set.csv')\n",
    "test_df = pd.read_csv('testing-set.csv')"
   ]
  },
  {
   "cell_type": "code",
   "execution_count": 3,
   "metadata": {
    "scrolled": true
   },
   "outputs": [
    {
     "name": "stderr",
     "output_type": "stream",
     "text": [
      "24/04/06 17:14:39 WARN Utils: Your hostname, BDS-2023 resolves to a loopback address: 127.0.1.1; using 10.0.2.15 instead (on interface enp0s3)\n",
      "24/04/06 17:14:39 WARN Utils: Set SPARK_LOCAL_IP if you need to bind to another address\n",
      "Setting default log level to \"WARN\".\n",
      "To adjust logging level use sc.setLogLevel(newLevel). For SparkR, use setLogLevel(newLevel).\n",
      "24/04/06 17:14:43 WARN NativeCodeLoader: Unable to load native-hadoop library for your platform... using builtin-java classes where applicable\n"
     ]
    }
   ],
   "source": [
    "spark = SparkSession.builder.appName('IDS').getOrCreate()\n"
   ]
  },
  {
   "cell_type": "code",
   "execution_count": 4,
   "metadata": {},
   "outputs": [
    {
     "name": "stderr",
     "output_type": "stream",
     "text": [
      "24/04/06 17:15:34 WARN SparkStringUtils: Truncated the string representation of a plan since it was too large. This behavior can be adjusted by setting 'spark.sql.debug.maxToStringFields'.\n",
      "24/04/06 17:15:37 WARN TaskSetManager: Stage 0 contains a task of very large size (1417 KiB). The maximum recommended task size is 1000 KiB.\n",
      "                                                                                \r"
     ]
    },
    {
     "name": "stdout",
     "output_type": "stream",
     "text": [
      "+---+------+-----+-------+-----+-----+-----+------+------+-----------+----+----+-------------+-----+-----+-----+---------+------+----+----+----+-----+-----+----+------+------+------+-----+-----+-----------+-----------------+----------+------------+----------+----------------+----------------+--------------+------------+----------+----------------+----------+----------+---------------+----------+-----+\n",
      "| id|   dur|proto|service|state|spkts|dpkts|sbytes|dbytes|       rate|sttl|dttl|        sload|dload|sloss|dloss|   sinpkt|dinpkt|sjit|djit|swin|stcpb|dtcpb|dwin|tcprtt|synack|ackdat|smean|dmean|trans_depth|response_body_len|ct_srv_src|ct_state_ttl|ct_dst_ltm|ct_src_dport_ltm|ct_dst_sport_ltm|ct_dst_src_ltm|is_ftp_login|ct_ftp_cmd|ct_flw_http_mthd|ct_src_ltm|ct_srv_dst|is_sm_ips_ports|attack_cat|label|\n",
      "+---+------+-----+-------+-----+-----+-----+------+------+-----------+----+----+-------------+-----+-----+-----+---------+------+----+----+----+-----+-----+----+------+------+------+-----+-----+-----------+-----------------+----------+------------+----------+----------------+----------------+--------------+------------+----------+----------------+----------+----------+---------------+----------+-----+\n",
      "|  1|1.1E-5|  udp|      -|  INT|    2|    0|   496|     0| 90909.0902| 254|   0| 1.80363632E8|  0.0|    0|    0|    0.011|   0.0| 0.0| 0.0|   0|    0|    0|   0|   0.0|   0.0|   0.0|  248|    0|          0|                0|         2|           2|         1|               1|               1|             2|           0|         0|               0|         1|         2|              0|    Normal|    0|\n",
      "|  2|8.0E-6|  udp|      -|  INT|    2|    0|  1762|     0|125000.0003| 254|   0|       8.81E8|  0.0|    0|    0|    0.008|   0.0| 0.0| 0.0|   0|    0|    0|   0|   0.0|   0.0|   0.0|  881|    0|          0|                0|         2|           2|         1|               1|               1|             2|           0|         0|               0|         1|         2|              0|    Normal|    0|\n",
      "|  3|5.0E-6|  udp|      -|  INT|    2|    0|  1068|     0|200000.0051| 254|   0|      8.544E8|  0.0|    0|    0|    0.005|   0.0| 0.0| 0.0|   0|    0|    0|   0|   0.0|   0.0|   0.0|  534|    0|          0|                0|         3|           2|         1|               1|               1|             3|           0|         0|               0|         1|         3|              0|    Normal|    0|\n",
      "|  4|6.0E-6|  udp|      -|  INT|    2|    0|   900|     0|166666.6608| 254|   0|        6.0E8|  0.0|    0|    0|    0.006|   0.0| 0.0| 0.0|   0|    0|    0|   0|   0.0|   0.0|   0.0|  450|    0|          0|                0|         3|           2|         2|               2|               1|             3|           0|         0|               0|         2|         3|              0|    Normal|    0|\n",
      "|  5|1.0E-5|  udp|      -|  INT|    2|    0|  2126|     0|100000.0025| 254|   0|      8.504E8|  0.0|    0|    0|     0.01|   0.0| 0.0| 0.0|   0|    0|    0|   0|   0.0|   0.0|   0.0| 1063|    0|          0|                0|         3|           2|         2|               2|               1|             3|           0|         0|               0|         2|         3|              0|    Normal|    0|\n",
      "|  6|3.0E-6|  udp|      -|  INT|    2|    0|   784|     0|333333.3215| 254|   0|1.045333312E9|  0.0|    0|    0|    0.003|   0.0| 0.0| 0.0|   0|    0|    0|   0|   0.0|   0.0|   0.0|  392|    0|          0|                0|         2|           2|         2|               2|               1|             2|           0|         0|               0|         2|         2|              0|    Normal|    0|\n",
      "|  7|6.0E-6|  udp|      -|  INT|    2|    0|  1960|     0|166666.6608| 254|   0|1.306666624E9|  0.0|    0|    0|    0.006|   0.0| 0.0| 0.0|   0|    0|    0|   0|   0.0|   0.0|   0.0|  980|    0|          0|                0|         2|           2|         2|               2|               1|             2|           0|         0|               0|         2|         2|              0|    Normal|    0|\n",
      "|  8|2.8E-5|  udp|      -|  INT|    2|    0|  1384|     0|35714.28522| 254|   0| 1.97714288E8|  0.0|    0|    0|    0.028|   0.0| 0.0| 0.0|   0|    0|    0|   0|   0.0|   0.0|   0.0|  692|    0|          0|                0|         3|           2|         1|               1|               1|             3|           0|         0|               0|         1|         3|              0|    Normal|    0|\n",
      "|  9|   0.0|  arp|      -|  INT|    1|    0|    46|     0|        0.0|   0|   0|          0.0|  0.0|    0|    0|60000.688|   0.0| 0.0| 0.0|   0|    0|    0|   0|   0.0|   0.0|   0.0|   46|    0|          0|                0|         2|           2|         2|               2|               2|             2|           0|         0|               0|         2|         2|              1|    Normal|    0|\n",
      "| 10|   0.0|  arp|      -|  INT|    1|    0|    46|     0|        0.0|   0|   0|          0.0|  0.0|    0|    0|60000.712|   0.0| 0.0| 0.0|   0|    0|    0|   0|   0.0|   0.0|   0.0|   46|    0|          0|                0|         2|           2|         2|               2|               2|             2|           0|         0|               0|         2|         2|              1|    Normal|    0|\n",
      "| 11|   0.0|  arp|      -|  INT|    1|    0|    46|     0|        0.0|   0|   0|          0.0|  0.0|    0|    0|60000.688|   0.0| 0.0| 0.0|   0|    0|    0|   0|   0.0|   0.0|   0.0|   46|    0|          0|                0|         2|           2|         2|               2|               2|             2|           0|         0|               0|         2|         2|              1|    Normal|    0|\n",
      "| 12|   0.0|  arp|      -|  INT|    1|    0|    46|     0|        0.0|   0|   0|          0.0|  0.0|    0|    0|60000.712|   0.0| 0.0| 0.0|   0|    0|    0|   0|   0.0|   0.0|   0.0|   46|    0|          0|                0|         2|           2|         2|               2|               2|             2|           0|         0|               0|         2|         2|              1|    Normal|    0|\n",
      "| 13|4.0E-6|  udp|      -|  INT|    2|    0|  1454|     0|250000.0006| 254|   0|      1.454E9|  0.0|    0|    0|    0.004|   0.0| 0.0| 0.0|   0|    0|    0|   0|   0.0|   0.0|   0.0|  727|    0|          0|                0|         3|           2|         1|               1|               1|             3|           0|         0|               0|         1|         3|              0|    Normal|    0|\n",
      "| 14|7.0E-6|  udp|      -|  INT|    2|    0|  2062|     0|142857.1409| 254|   0|1.178285696E9|  0.0|    0|    0|    0.007|   0.0| 0.0| 0.0|   0|    0|    0|   0|   0.0|   0.0|   0.0| 1031|    0|          0|                0|         3|           2|         1|               1|               1|             3|           0|         0|               0|         1|         3|              0|    Normal|    0|\n",
      "| 15|1.1E-5|  udp|      -|  INT|    2|    0|  2040|     0| 90909.0902| 254|   0| 7.41818176E8|  0.0|    0|    0|    0.011|   0.0| 0.0| 0.0|   0|    0|    0|   0|   0.0|   0.0|   0.0| 1020|    0|          0|                0|         1|           2|         1|               1|               1|             1|           0|         0|               0|         1|         1|              0|    Normal|    0|\n",
      "| 16|4.0E-6|  udp|      -|  INT|    2|    0|  1052|     0|250000.0006| 254|   0|      1.052E9|  0.0|    0|    0|    0.004|   0.0| 0.0| 0.0|   0|    0|    0|   0|   0.0|   0.0|   0.0|  526|    0|          0|                0|         3|           2|         1|               1|               1|             3|           0|         0|               0|         2|         3|              0|    Normal|    0|\n",
      "| 17|3.0E-6|  udp|      -|  INT|    2|    0|   314|     0|333333.3215| 254|   0| 4.18666656E8|  0.0|    0|    0|    0.003|   0.0| 0.0| 0.0|   0|    0|    0|   0|   0.0|   0.0|   0.0|  157|    0|          0|                0|         2|           2|         1|               1|               1|             2|           0|         0|               0|         1|         2|              0|    Normal|    0|\n",
      "| 18|1.0E-5|  udp|      -|  INT|    2|    0|  1774|     0|100000.0025| 254|   0|      7.096E8|  0.0|    0|    0|     0.01|   0.0| 0.0| 0.0|   0|    0|    0|   0|   0.0|   0.0|   0.0|  887|    0|          0|                0|         2|           2|         1|               1|               1|             2|           0|         0|               0|         1|         2|              0|    Normal|    0|\n",
      "| 19|2.0E-6|  udp|      -|  INT|    2|    0|  1568|     0|500000.0013| 254|   0|      3.136E9|  0.0|    0|    0|    0.002|   0.0| 0.0| 0.0|   0|    0|    0|   0|   0.0|   0.0|   0.0|  784|    0|          0|                0|         3|           2|         1|               1|               1|             2|           0|         0|               0|         1|         2|              0|    Normal|    0|\n",
      "| 20|4.0E-6|  udp|      -|  INT|    2|    0|  2054|     0|250000.0006| 254|   0|      2.054E9|  0.0|    0|    0|    0.004|   0.0| 0.0| 0.0|   0|    0|    0|   0|   0.0|   0.0|   0.0| 1027|    0|          0|                0|         3|           2|         1|               1|               1|             2|           0|         0|               0|         2|         2|              0|    Normal|    0|\n",
      "+---+------+-----+-------+-----+-----+-----+------+------+-----------+----+----+-------------+-----+-----+-----+---------+------+----+----+----+-----+-----+----+------+------+------+-----+-----+-----------+-----------------+----------+------------+----------+----------------+----------------+--------------+------------+----------+----------------+----------+----------+---------------+----------+-----+\n",
      "only showing top 20 rows\n",
      "\n"
     ]
    }
   ],
   "source": [
    "spark_df = spark.createDataFrame(train_df)\n",
    "spark_df.show()"
   ]
  },
  {
   "cell_type": "raw",
   "metadata": {
    "execution": {
     "iopub.execute_input": "2023-08-20T07:02:07.534677Z",
     "iopub.status.busy": "2023-08-20T07:02:07.534079Z",
     "iopub.status.idle": "2023-08-20T07:02:19.951825Z",
     "shell.execute_reply": "2023-08-20T07:02:19.951146Z",
     "shell.execute_reply.started": "2023-08-20T07:02:07.534639Z"
    }
   },
   "source": [
    "train_df = spark.read.csv('hdfs://localhost:9000/user/training-set.csv', header=True, inferSchema=True)\n",
    "test_df = spark.read.csv('hdfs://localhost:9000/user/training-set.csv', header=True, inferSchema=True)\n",
    "train_df.show()"
   ]
  },
  {
   "cell_type": "markdown",
   "metadata": {},
   "source": [
    "#### Custom pipeline for data pre-processing"
   ]
  },
  {
   "cell_type": "code",
   "execution_count": 5,
   "metadata": {
    "execution": {
     "iopub.execute_input": "2023-08-20T07:02:22.147765Z",
     "iopub.status.busy": "2023-08-20T07:02:22.147318Z",
     "iopub.status.idle": "2023-08-20T07:02:22.338412Z",
     "shell.execute_reply": "2023-08-20T07:02:22.338086Z",
     "shell.execute_reply.started": "2023-08-20T07:02:22.147739Z"
    }
   },
   "outputs": [],
   "source": [
    "class PreProcessPipeline:\n",
    "    def __init__(self, label_encode = True, process_label = 'Binary'):\n",
    "        self.label_encode = label_encode\n",
    "        self.process_label = process_label\n",
    "    \n",
    "    def fit(self):\n",
    "        return self\n",
    "\n",
    "    def transform(self, df):\n",
    "        df = df.drop('id', axis=1)\n",
    "        df = df.copy()\n",
    "        if self.label_encode:\n",
    "            columns = ['proto', 'service', 'state', 'attack_cat']\n",
    "            for column in columns:\n",
    "                unique_values = df[column].unique()\n",
    "                mapping = {value: index for index, value in enumerate(unique_values)}\n",
    "                df[column] = df[column].map(mapping)\n",
    "\n",
    "        if self.process_label == 'Binary':\n",
    "            df.drop('attack_cat', axis=1, inplace=True)\n",
    "        else:             \n",
    "            df['attack_cat'], df['label'] = df['label'], df['attack_cat']\n",
    "            df.drop('attack_cat', axis=1, inplace=True)      \n",
    "\n",
    "        return df"
   ]
  },
  {
   "cell_type": "markdown",
   "metadata": {},
   "source": [
    "#### Dataframe Pipeline"
   ]
  },
  {
   "cell_type": "code",
   "execution_count": 6,
   "metadata": {
    "execution": {
     "iopub.execute_input": "2023-08-20T07:02:23.246043Z",
     "iopub.status.busy": "2023-08-20T07:02:23.245485Z",
     "iopub.status.idle": "2023-08-20T07:02:23.262216Z",
     "shell.execute_reply": "2023-08-20T07:02:23.261747Z",
     "shell.execute_reply.started": "2023-08-20T07:02:23.246001Z"
    }
   },
   "outputs": [],
   "source": [
    "class SparkDFPipeline:\n",
    "    def __init__(self, standardize=False):\n",
    "        self.standardize = standardize\n",
    "    \n",
    "    def fit(self):\n",
    "        return self\n",
    "    \n",
    "    def transform(self, train_df, test_df):      \n",
    "        if self.standardize:\n",
    "            # Standardize the df\n",
    "\n",
    "            # Resample the df\n",
    "            num_partitions = 500\n",
    "            repartitioned_df = train_df.repartition(num_partitions)\n",
    "\n",
    "            exclude = ['proto', 'service', 'state']\n",
    "            input_columns = train_df.columns[:-1]\n",
    "            selected_columns = [col for col in input_columns if col not in exclude]\n",
    "            # Vectorize the df\n",
    "            assembler = VectorAssembler(inputCols=selected_columns, outputCol='features')\n",
    "            train_df = assembler.transform(repartitioned_df)\n",
    "            test_df = assembler.transform(test_df)\n",
    "\n",
    "            # Standardize the df\n",
    "            scaler = StandardScaler(inputCol='features', outputCol='scaled_features', withStd=True, withMean=True)\n",
    "            scaler_model = scaler.fit(train_df)\n",
    "            train_df = scaler_model.transform(train_df)\n",
    "\n",
    "            scaler_model = scaler.fit(test_df)\n",
    "            test_df = scaler_model.transform(test_df)\n",
    "            test_df = test_df.drop('features')\n",
    "            train_df = train_df.drop('features')\n",
    "            \n",
    "            # put back the categorical columns\n",
    "            input_cols = ['scaled_features', 'proto', 'service', 'state']\n",
    "            output_col = \"features\"\n",
    "            assembler1 = VectorAssembler(inputCols=input_cols, outputCol=output_col)\n",
    "            train_df = assembler1.transform(train_df)\n",
    "            test_df = assembler1.transform(test_df)\n",
    "\n",
    "            # return result\n",
    "            test_df = test_df.select('features', 'label')\n",
    "            train_df = train_df.select('features', 'label')\n",
    "        else:\n",
    "            # Normal vectorize df\n",
    "            num_partitions = 500\n",
    "            repartitioned_df = train_df.repartition(num_partitions)\n",
    "            input_columns = train_df.columns[:-1]\n",
    "            assembler = VectorAssembler(inputCols=input_columns, outputCol='features')\n",
    "            train_df = assembler.transform(repartitioned_df)\n",
    "            train_df = train_df.select('features', 'label')\n",
    "            test_df = assembler.transform(test_df)\n",
    "              \n",
    "        return train_df, test_df"
   ]
  },
  {
   "cell_type": "markdown",
   "metadata": {},
   "source": [
    "#### For Logistic Regression"
   ]
  },
  {
   "cell_type": "code",
   "execution_count": 7,
   "metadata": {
    "execution": {
     "iopub.execute_input": "2023-08-20T07:02:23.636951Z",
     "iopub.status.busy": "2023-08-20T07:02:23.636386Z",
     "iopub.status.idle": "2023-08-20T07:02:23.645979Z",
     "shell.execute_reply": "2023-08-20T07:02:23.644985Z",
     "shell.execute_reply.started": "2023-08-20T07:02:23.636920Z"
    }
   },
   "outputs": [],
   "source": [
    "def train_weighted_logistic_regression(train_df):\n",
    "    # Calculate class frequencies\n",
    "    class_frequencies = train_df.groupBy(\"label\").count()\n",
    "\n",
    "    # Calculate class weights\n",
    "    total_samples = train_df.count()\n",
    "    class_frequencies = class_frequencies.withColumn(\"weight\", total_samples / (class_frequencies[\"count\"] * class_frequencies.count()))\n",
    "\n",
    "    # Join the weights with the training data\n",
    "    train_with_weights = train_df.join(class_frequencies, on=\"label\")\n",
    "\n",
    "    # Add a constant column for weight if it doesn't exist\n",
    "    if \"weight\" not in train_with_weights.columns:\n",
    "        train_with_weights = train_with_weights.withColumn(\"weight\", lit(1.0))\n",
    "\n",
    "    # Create a VectorAssembler\n",
    "    assembler = VectorAssembler(inputCols=['features'], outputCol='assembled_features')\n",
    "\n",
    "    # Define the Logistic Regression model with class weights\n",
    "    lr_weighted = LogisticRegression(featuresCol='assembled_features', labelCol='label', maxIter=10, weightCol='weight')\n",
    "\n",
    "    # Create a pipeline with the defined stages\n",
    "    pipeline_weighted = Pipeline(stages=[assembler, lr_weighted])\n",
    "\n",
    "    # Fit the pipeline on your training data with class weights\n",
    "    model_weighted = pipeline_weighted.fit(train_with_weights)\n",
    "    \n",
    "    return model_weighted"
   ]
  },
  {
   "cell_type": "markdown",
   "metadata": {},
   "source": [
    "#### For visualisation"
   ]
  },
  {
   "cell_type": "code",
   "execution_count": 8,
   "metadata": {
    "execution": {
     "iopub.execute_input": "2023-08-20T07:02:23.954312Z",
     "iopub.status.busy": "2023-08-20T07:02:23.953909Z",
     "iopub.status.idle": "2023-08-20T07:02:23.960664Z",
     "shell.execute_reply": "2023-08-20T07:02:23.960000Z",
     "shell.execute_reply.started": "2023-08-20T07:02:23.954286Z"
    }
   },
   "outputs": [],
   "source": [
    "spark.conf.set('spark.sql.repl.eagerEval.enabled', True)"
   ]
  },
  {
   "cell_type": "markdown",
   "metadata": {},
   "source": [
    "#### For Evaluation"
   ]
  },
  {
   "cell_type": "code",
   "execution_count": 9,
   "metadata": {
    "execution": {
     "iopub.execute_input": "2023-08-20T07:02:24.267630Z",
     "iopub.status.busy": "2023-08-20T07:02:24.267250Z",
     "iopub.status.idle": "2023-08-20T07:02:24.282624Z",
     "shell.execute_reply": "2023-08-20T07:02:24.281956Z",
     "shell.execute_reply.started": "2023-08-20T07:02:24.267605Z"
    }
   },
   "outputs": [],
   "source": [
    "# Define your class labels\n",
    "class_labels = ['Normal', 'Generic', 'Exploits', 'Fuzzers', 'DoS', 'Reconnaissance', 'Analysis', 'Backdoor', 'Shellcode', 'Worms']\n",
    "\n",
    "def evaluate_model(model, val_data, model_name, process_label):\n",
    "    # Make predictions on the validation data\n",
    "    predictions = model.transform(val_data)\n",
    "\n",
    "    if process_label == 'Multi':\n",
    "        acc_evaluator = MulticlassClassificationEvaluator(labelCol=\"label\", predictionCol=\"prediction\", metricName=\"accuracy\")\n",
    "        accuracy = acc_evaluator.evaluate(predictions)\n",
    "\n",
    "        f1_evaluator = MulticlassClassificationEvaluator(labelCol=\"label\", predictionCol=\"prediction\", metricName=\"f1\")\n",
    "        f1_score = f1_evaluator.evaluate(predictions)\n",
    "\n",
    "        # AUC_evaluator = MulticlassClassificationEvaluator(labelCol=\"label\", predictionCol=\"prediction\", metricName=\"areaUnderROC\")\n",
    "        # AUC_score = AUC_evaluator.evaluate(predictions)\n",
    "\n",
    "        # AUPR_evaluator = MulticlassClassificationEvaluator(labelCol=\"label\", predictionCol=\"prediction\", metricName=\"areaUnderPR\")\n",
    "        # AUPR_score = AUPR_evaluator.evaluate(predictions)\n",
    "\n",
    "        precision_evaluator = MulticlassClassificationEvaluator(labelCol=\"label\", predictionCol=\"prediction\", metricName=\"weightedPrecision\")\n",
    "        precision_score = precision_evaluator.evaluate(predictions)\n",
    "\n",
    "        recall_evaluator = MulticlassClassificationEvaluator(labelCol=\"label\", predictionCol=\"prediction\", metricName=\"weightedRecall\")\n",
    "        recall_score = recall_evaluator.evaluate(predictions)\n",
    "        \n",
    "        # Convert Spark DataFrames to Pandas DataFrames for visualization\n",
    "        y_true_pd = predictions.select('label').toPandas()\n",
    "        y_pred_pd = predictions.select('prediction').toPandas()\n",
    "\n",
    "        # Generate the confusion matrix\n",
    "        cm = confusion_matrix(y_true_pd['label'], y_pred_pd['prediction'])\n",
    "\n",
    "        # Get the predicted counts for each class label\n",
    "        predicted_counts = y_pred_pd['prediction'].value_counts()\n",
    "\n",
    "        # Create a dictionary to store the counts of each class label\n",
    "        class_counts = {label: 0 for label in class_labels}\n",
    "\n",
    "        # Fill in the dictionary with actual predicted counts where available\n",
    "        for key, count in predicted_counts.items():\n",
    "            class_counts[class_labels[int(key)]] = count\n",
    "\n",
    "        # Convert the dictionary values to a list\n",
    "        predicted_counts_list = [class_counts[label] for label in class_labels]\n",
    "\n",
    "        # Display the confusion matrix as a heatmap with sorted class labels and counts\n",
    "        plt.figure(figsize=(8, 6))\n",
    "        sns.heatmap(cm, annot=True, fmt=\"d\", cmap=\"Blues\", xticklabels=class_labels[::-1], yticklabels=class_labels)\n",
    "        plt.xlabel('Predicted')\n",
    "        plt.ylabel('True')\n",
    "        plt.title(model_name)\n",
    "        plt.show()\n",
    "\n",
    "\n",
    "        # Create a dictionary of model evaluation metrics\n",
    "        eval_metrics = {\n",
    "            'Accuracy': accuracy\n",
    "            , 'F1 Score': f1_score\n",
    "            # , 'Area Under ROC': AUC_score\n",
    "            # , 'Area Under PR': AUPR_score\n",
    "            , 'Precision': precision_score\n",
    "            , 'Recall': recall_score\n",
    "        }\n",
    "\n",
    "    elif process_label == 'Binary':\n",
    "        auc_evaluator = BinaryClassificationEvaluator(labelCol='label')\n",
    "        auc = auc_evaluator.evaluate(predictions)\n",
    "\n",
    "        # Calculate Area Under Precision-Recall Curve using BinaryClassificationEvaluator\n",
    "        pr_evaluator = BinaryClassificationEvaluator(labelCol='label', metricName='areaUnderPR')\n",
    "        area_under_pr = pr_evaluator.evaluate(predictions)\n",
    "\n",
    "        # Calculate True Positives, True Negatives, False Positives, and False Negatives\n",
    "        tp = predictions.filter(\"label = 1 and prediction = 1\").count()\n",
    "        tn = predictions.filter(\"label = 0 and prediction = 0\").count()\n",
    "        fp = predictions.filter(\"label = 0 and prediction = 1\").count()\n",
    "        fn = predictions.filter(\"label = 1 and prediction = 0\").count()\n",
    "\n",
    "        # Calculate metrics using TP, TN, FP, FN\n",
    "        sensitivity = tp / (tp + fn)\n",
    "        specificity = tn / (tn + fp)\n",
    "        precision = tp / (tp + fp)\n",
    "        recall = sensitivity\n",
    "        f1_score = 2 * (precision * recall) / (precision + recall)\n",
    "        accuracy = (tp + tn) / (tp + tn + fp + fn)\n",
    "        # youdens_j = sensitivity + specificity - 1\n",
    "        # balanced_accuracy = (sensitivity + specificity) / 2\n",
    "\n",
    "        # Convert Spark DataFrames to Pandas DataFrames for visualization\n",
    "        confusion_matrix = pd.DataFrame({\n",
    "            \"Predicted 1\": [tp, fp],\n",
    "            \"Predicted 0\": [fn, tn]\n",
    "        }, index=[\"Actual 1\", \"Actual 0\"])\n",
    "\n",
    "        # Plot the confusion matrix using Seaborn\n",
    "        plt.figure(figsize=(8, 6))\n",
    "        sns.set(font_scale=1.2)\n",
    "        sns.heatmap(confusion_matrix, annot=True, fmt=\"d\", cmap=\"Blues\")\n",
    "        plt.title(\"Confusion Matrix\")\n",
    "        plt.xlabel(\"Predicted\")\n",
    "        plt.ylabel(\"Actual\")\n",
    "        plt.show()\n",
    "        \n",
    "        # Create a dictionary of model evaluation metrics\n",
    "        eval_metrics = {\n",
    "            'AUC': auc,\n",
    "            'AreaUnderPR': area_under_pr,\n",
    "            'Sensitivity': sensitivity,\n",
    "            'Specificity': specificity,\n",
    "            'Precision': precision,\n",
    "            'Recall': recall,\n",
    "            'F1-Score': f1_score,\n",
    "            'Accuracy': accuracy,\n",
    "            # \"Youden's J Index\": youdens_j,\n",
    "            # 'Balanced Accuracy': balanced_accuracy\n",
    "        }\n",
    "\n",
    "    return eval_metrics"
   ]
  },
  {
   "cell_type": "markdown",
   "metadata": {},
   "source": [
    "## Data Exploration"
   ]
  },
  {
   "cell_type": "markdown",
   "metadata": {},
   "source": [
    "### Explore train_df "
   ]
  },
  {
   "cell_type": "markdown",
   "metadata": {},
   "source": [
    "#### Change either 'Binary' or 'Multi' according to Classification use case"
   ]
  },
  {
   "cell_type": "code",
   "execution_count": 10,
   "metadata": {
    "execution": {
     "iopub.execute_input": "2023-08-20T07:02:26.679000Z",
     "iopub.status.busy": "2023-08-20T07:02:26.676928Z",
     "iopub.status.idle": "2023-08-20T07:02:26.827441Z",
     "shell.execute_reply": "2023-08-20T07:02:26.827076Z",
     "shell.execute_reply.started": "2023-08-20T07:02:26.678941Z"
    }
   },
   "outputs": [],
   "source": [
    "process_label = 'Binary'  # or 'Binary' depending on use case\n",
    "\n",
    "if process_label == 'Multi':\n",
    "    pipeline_train = PreProcessPipeline(label_encode=True, process_label='Multi')\n",
    "    pipeline_test = PreProcessPipeline(label_encode=True, process_label='Multi')\n",
    "elif process_label == 'Binary':\n",
    "    pipeline_train = PreProcessPipeline(label_encode=True, process_label='Binary')\n",
    "    pipeline_test = PreProcessPipeline(label_encode=True, process_label='Binary')\n",
    "\n",
    "# Transform train and test data using the appropriate pipeline\n",
    "train_df = pipeline_train.transform(train_df)\n",
    "test_df = pipeline_test.transform(test_df)\n"
   ]
  },
  {
   "cell_type": "markdown",
   "metadata": {},
   "source": [
    "## Data Visualisation"
   ]
  },
  {
   "cell_type": "code",
   "execution_count": 11,
   "metadata": {
    "execution": {
     "iopub.execute_input": "2023-08-20T07:02:27.226727Z",
     "iopub.status.busy": "2023-08-20T07:02:27.226289Z",
     "iopub.status.idle": "2023-08-20T07:02:27.398507Z",
     "shell.execute_reply": "2023-08-20T07:02:27.398071Z",
     "shell.execute_reply.started": "2023-08-20T07:02:27.226704Z"
    }
   },
   "outputs": [
    {
     "data": {
      "image/png": "[encoded data removed]",
      "text/plain": [
       "<Figure size 864x432 with 2 Axes>"
      ]
     },
     "metadata": {
      "needs_background": "light"
     },
     "output_type": "display_data"
    }
   ],
   "source": [
    "# Set up the figure with subplots\n",
    "fig, axes = plt.subplots(nrows=1, ncols=2, figsize=(12, 6))\n",
    "\n",
    "# Plot countplot for column1\n",
    "sns.countplot(data=train_df, x='label', palette=\"Set1\", ax=axes[0])\n",
    "axes[0].set_title(\"Label Plot for train df\")\n",
    "axes[0].set_xlabel(\"Column 1\")\n",
    "axes[0].set_ylabel(\"Count\")\n",
    "\n",
    "# Plot countplot for column2\n",
    "sns.countplot(data=test_df, x='label', palette=\"Set2\", ax=axes[1])\n",
    "axes[1].set_title(\"Label Plot for test df\")\n",
    "axes[1].set_xlabel(\"Column 2\")\n",
    "axes[1].set_ylabel(\"Count\")\n",
    "\n",
    "# Adjust spacing between subplots\n",
    "plt.tight_layout()\n",
    "\n",
    "# Show the plots\n",
    "plt.show()"
   ]
  },
  {
   "cell_type": "code",
   "execution_count": 12,
   "metadata": {
    "execution": {
     "iopub.execute_input": "2023-08-20T07:02:27.734589Z",
     "iopub.status.busy": "2023-08-20T07:02:27.734389Z",
     "iopub.status.idle": "2023-08-20T07:02:30.504555Z",
     "shell.execute_reply": "2023-08-20T07:02:30.504250Z",
     "shell.execute_reply.started": "2023-08-20T07:02:27.734575Z"
    }
   },
   "outputs": [
    {
     "data": {
      "image/png": "[encoded data removed]",
      "text/plain": [
       "<Figure size 1440x1584 with 49 Axes>"
      ]
     },
     "metadata": {
      "needs_background": "light"
     },
     "output_type": "display_data"
    }
   ],
   "source": [
    "rcParams[\"figure.figsize\"]=(20,22)\n",
    "train_df.hist()\n",
    "plt.grid()"
   ]
  },
  {
   "cell_type": "markdown",
   "metadata": {},
   "source": [
    "#### Check Coorelation between the features"
   ]
  },
  {
   "cell_type": "code",
   "execution_count": 13,
   "metadata": {},
   "outputs": [
    {
     "data": {
      "image/png": "[encoded data removed]",
      "text/plain": [
       "<Figure size 864x864 with 2 Axes>"
      ]
     },
     "metadata": {
      "needs_background": "light"
     },
     "output_type": "display_data"
    }
   ],
   "source": [
    "# Visualize - Correlation matrix\n",
    "\n",
    "# Create a correlation matrix\n",
    "corr_matrix = train_df.corr()\n",
    "\n",
    "# Select the correlation values with 'label', label here means attack_cat\n",
    "target_corr = corr_matrix['label']\n",
    "\n",
    "# Plot the correlation matrix as a heatmap\n",
    "plt.figure(figsize=(12, 12))\n",
    "sns.heatmap(corr_matrix, annot=False, cmap='coolwarm', vmin=-1, vmax=1)\n",
    "plt.title('Correlation Matrix')\n",
    "plt.show() "
   ]
  },
  {
   "cell_type": "code",
   "execution_count": 14,
   "metadata": {
    "execution": {
     "iopub.execute_input": "2023-08-20T07:02:31.423934Z",
     "iopub.status.busy": "2023-08-20T07:02:31.423837Z",
     "iopub.status.idle": "2023-08-20T07:02:31.427219Z",
     "shell.execute_reply": "2023-08-20T07:02:31.426721Z",
     "shell.execute_reply.started": "2023-08-20T07:02:31.423925Z"
    }
   },
   "outputs": [
    {
     "name": "stdout",
     "output_type": "stream",
     "text": [
      "dur: 0.0011\n",
      "proto: 0.2592\n",
      "service: 0.3568\n",
      "state: 0.4993\n",
      "spkts: 0.0277\n",
      "dpkts: 0.0615\n",
      "sbytes: 0.0206\n",
      "dbytes: 0.0326\n",
      "rate: 0.3286\n",
      "sttl: 0.5042\n",
      "dttl: 0.0986\n",
      "sload: 0.1245\n",
      "dload: 0.2805\n",
      "sloss: 0.0064\n",
      "dloss: 0.0444\n",
      "sinpkt: 0.1208\n",
      "dinpkt: 0.0376\n",
      "sjit: 0.0274\n",
      "djit: 0.0271\n",
      "swin: 0.4145\n",
      "stcpb: 0.2814\n",
      "dtcpb: 0.2829\n",
      "dwin: 0.3693\n",
      "tcprtt: 0.1488\n",
      "synack: 0.1499\n",
      "ackdat: 0.1205\n",
      "smean: 0.0611\n",
      "dmean: 0.2115\n",
      "trans_depth: 0.0258\n",
      "response_body_len: 0.0164\n",
      "ct_srv_src: 0.2902\n",
      "ct_state_ttl: 0.3185\n",
      "ct_dst_ltm: 0.2580\n",
      "ct_src_dport_ltm: 0.3415\n",
      "ct_dst_sport_ltm: 0.3937\n",
      "ct_dst_src_ltm: 0.2800\n",
      "is_ftp_login: 0.0162\n",
      "ct_ftp_cmd: 0.0171\n",
      "ct_flw_http_mthd: 0.0750\n",
      "ct_src_ltm: 0.2765\n",
      "ct_srv_dst: 0.2929\n",
      "is_sm_ips_ports: 0.1174\n",
      "label: 1.0000\n"
     ]
    }
   ],
   "source": [
    "# Show the feature ranking in corr order \n",
    "\n",
    "# Calculate the absolute correlation values with the 'label'\n",
    "target_corr_abs = corr_matrix['label'].abs()\n",
    "\n",
    "# Sort the correlation values in descending order\n",
    "sorted_corr = target_corr_abs.sort_values(ascending=False)\n",
    "\n",
    "# Print the sorted correlation values and their corresponding attributes\n",
    "for attribute, correlation in target_corr_abs.items():\n",
    "    print(f\"{attribute}: {correlation:.4f}\")"
   ]
  },
  {
   "cell_type": "markdown",
   "metadata": {},
   "source": [
    "# Prepare the data"
   ]
  },
  {
   "cell_type": "markdown",
   "metadata": {},
   "source": [
    "### Convert Pandas DF to Spark DF"
   ]
  },
  {
   "cell_type": "code",
   "execution_count": 15,
   "metadata": {},
   "outputs": [],
   "source": [
    "sparktrain_df = spark.createDataFrame(train_df)\n",
    "sparktest_df = spark.createDataFrame(test_df)"
   ]
  },
  {
   "cell_type": "code",
   "execution_count": 16,
   "metadata": {
    "execution": {
     "iopub.execute_input": "2023-08-20T07:03:53.022361Z",
     "iopub.status.busy": "2023-08-20T07:03:53.021787Z",
     "iopub.status.idle": "2023-08-20T07:03:53.038607Z",
     "shell.execute_reply": "2023-08-20T07:03:53.037625Z",
     "shell.execute_reply.started": "2023-08-20T07:03:53.022332Z"
    }
   },
   "outputs": [],
   "source": [
    "num_partitions = 8\n",
    "train_df = sparktrain_df.repartition(num_partitions)\n",
    "test_df = sparktest_df.repartition(num_partitions)"
   ]
  },
  {
   "cell_type": "markdown",
   "metadata": {},
   "source": [
    "### Feature enabler"
   ]
  },
  {
   "cell_type": "markdown",
   "metadata": {},
   "source": [
    "##### for Default"
   ]
  },
  {
   "cell_type": "code",
   "execution_count": 17,
   "metadata": {
    "execution": {
     "iopub.execute_input": "2023-08-20T07:03:54.829102Z",
     "iopub.status.busy": "2023-08-20T07:03:54.828081Z",
     "iopub.status.idle": "2023-08-20T07:04:13.765879Z",
     "shell.execute_reply": "2023-08-20T07:04:13.765427Z",
     "shell.execute_reply.started": "2023-08-20T07:03:54.829043Z"
    },
    "scrolled": true
   },
   "outputs": [
    {
     "name": "stderr",
     "output_type": "stream",
     "text": [
      "24/04/06 17:16:37 WARN TaskSetManager: Stage 1 contains a task of very large size (1366 KiB). The maximum recommended task size is 1000 KiB.\n",
      "24/04/06 17:18:43 WARN TaskSetManager: Stage 7 contains a task of very large size (1366 KiB). The maximum recommended task size is 1000 KiB.\n",
      "                                                                                \r"
     ]
    }
   ],
   "source": [
    "pipeline = SparkDFPipeline(standardize=True)\n",
    "train, test = pipeline.transform(train_df, test_df)"
   ]
  },
  {
   "cell_type": "markdown",
   "metadata": {},
   "source": [
    "# Model selection and training\n",
    "- Select machine learning models (Logistic Regression , Decision Tree, Sector-Vector Machine, Multilayer perceptron).\n",
    "- Train the selected models using the training data."
   ]
  },
  {
   "cell_type": "markdown",
   "metadata": {},
   "source": [
    "## Logistic Regression model"
   ]
  },
  {
   "cell_type": "markdown",
   "metadata": {},
   "source": [
    "### Default Model"
   ]
  },
  {
   "cell_type": "code",
   "execution_count": 18,
   "metadata": {
    "execution": {
     "iopub.execute_input": "2023-08-20T07:04:59.203543Z",
     "iopub.status.busy": "2023-08-20T07:04:59.203433Z",
     "iopub.status.idle": "2023-08-20T07:05:43.960984Z",
     "shell.execute_reply": "2023-08-20T07:05:43.960626Z",
     "shell.execute_reply.started": "2023-08-20T07:04:59.203533Z"
    }
   },
   "outputs": [
    {
     "name": "stderr",
     "output_type": "stream",
     "text": [
      "24/04/06 17:19:08 WARN TaskSetManager: Stage 13 contains a task of very large size (1366 KiB). The maximum recommended task size is 1000 KiB.\n",
      "24/04/06 17:19:19 WARN TaskSetManager: Stage 14 contains a task of very large size (1366 KiB). The maximum recommended task size is 1000 KiB.\n",
      "24/04/06 17:27:36 WARN TaskSetManager: Stage 51 contains a task of very large size (1366 KiB). The maximum recommended task size is 1000 KiB.\n",
      "24/04/06 17:28:19 WARN TaskSetManager: Stage 52 contains a task of very large size (1366 KiB). The maximum recommended task size is 1000 KiB.\n",
      "[Stage 52:==================================>                      (6 + 4) / 10]\r"
     ]
    }
   ],
   "source": [
    "# for default model\n",
    "lr_default = LogisticRegression(featuresCol='features', labelCol='label', maxIter=10)\n",
    "pipeline_default = Pipeline(stages=[lr_default])\n",
    "model_default = pipeline_default.fit(train)  # Use the 'train' dataset"
   ]
  },
  {
   "cell_type": "markdown",
   "metadata": {},
   "source": [
    "###  Fine-Tuning "
   ]
  },
  {
   "cell_type": "markdown",
   "metadata": {},
   "source": [
    "#### Best Tuned Model"
   ]
  },
  {
   "cell_type": "code",
   "execution_count": 19,
   "metadata": {
    "execution": {
     "iopub.execute_input": "2023-08-20T07:05:43.961498Z",
     "iopub.status.busy": "2023-08-20T07:05:43.961403Z",
     "iopub.status.idle": "2023-08-20T07:11:19.411914Z",
     "shell.execute_reply": "2023-08-20T07:11:19.411212Z",
     "shell.execute_reply.started": "2023-08-20T07:05:43.961488Z"
    }
   },
   "outputs": [
    {
     "name": "stderr",
     "output_type": "stream",
     "text": [
      "24/04/06 17:28:33 WARN TaskSetManager: Stage 53 contains a task of very large size (1366 KiB). The maximum recommended task size is 1000 KiB.\n",
      "[Stage 60:===========================================>         (415 + 10) / 500]\r"
     ]
    }
   ],
   "source": [
    "# Create a pipeline with the defined stages\n",
    "pipeline = Pipeline(stages=[lr_default])\n",
    "\n",
    "# Define the ParamGrid\n",
    "paramGrid = ParamGridBuilder() \\\n",
    "    .addGrid(lr_default.maxIter, [10, 20, 30]) \\\n",
    "    .addGrid(lr_default.regParam, [0.1, 0.01]) \\\n",
    "    .build()\n",
    "\n",
    "# Set up the appropriate evaluator based on process_label\n",
    "if process_label == 'Multi':\n",
    "    evaluator = MulticlassClassificationEvaluator(labelCol=\"label\", predictionCol=\"prediction\", metricName=\"accuracy\")\n",
    "elif process_label == 'Binary':\n",
    "    evaluator = BinaryClassificationEvaluator(labelCol=\"label\", rawPredictionCol=\"rawPrediction\")\n",
    "\n",
    "# Instantiate CrossValidator with the pipeline and paramGrid\n",
    "cv = CrossValidator(estimator=pipeline, estimatorParamMaps=paramGrid, evaluator=evaluator, numFolds=3)\n",
    "\n",
    "# Fit the CrossValidator on your training data\n",
    "best_tuned_LR_model = cv.fit(train).bestModel"
   ]
  },
  {
   "cell_type": "markdown",
   "metadata": {},
   "source": [
    "#### Weight Model"
   ]
  },
  {
   "cell_type": "code",
   "execution_count": 20,
   "metadata": {
    "execution": {
     "iopub.execute_input": "2023-08-20T07:11:19.413429Z",
     "iopub.status.busy": "2023-08-20T07:11:19.413260Z",
     "iopub.status.idle": "2023-08-20T07:11:57.743974Z",
     "shell.execute_reply": "2023-08-20T07:11:57.729152Z",
     "shell.execute_reply.started": "2023-08-20T07:11:19.413412Z"
    }
   },
   "outputs": [],
   "source": [
    "# Train weighted model by calling train_weighted_logistic_regression function\n",
    "weighted_lr_model = train_weighted_logistic_regression(train)"
   ]
  },
  {
   "cell_type": "markdown",
   "metadata": {},
   "source": [
    "### Evaluation"
   ]
  },
  {
   "cell_type": "code",
   "execution_count": 21,
   "metadata": {
    "execution": {
     "iopub.status.busy": "2023-08-20T07:11:57.746418Z",
     "iopub.status.idle": "2023-08-20T07:11:57.747555Z",
     "shell.execute_reply": "2023-08-20T07:11:57.747089Z",
     "shell.execute_reply.started": "2023-08-20T07:11:57.747072Z"
    }
   },
   "outputs": [],
   "source": [
    "# Evaluate models using the evaluate_model function\n",
    "evaluation_results_LR_default = evaluate_model(model_default, test, 'Default Model',process_label)  # Use the 'test' dataset\n",
    "evaluation_results_best_LR_tuned = evaluate_model(best_tuned_LR_model, test, 'Best-Tuned Model', process_label)  # Use the 'FT_test' dataset\n",
    "evaluation_results_weighted = evaluate_model(weighted_lr_model, test, 'Weighted Model', process_label)  # Use the 'FT_test' dataset\n",
    "\n",
    "# Print evaluation results for all models side by side\n",
    "print(\"Evaluation Results:\")\n",
    "print(f\"{'Metric':<20}{'Default Model':<20}{'Best-Tuned Model':<20}{'Weighted Model':<20}\")\n",
    "print(\"=\" * 80)\n",
    "\n",
    "for metric in evaluation_results_LR_default.keys():\n",
    "    default_value = evaluation_results_LR_default[metric]\n",
    "    best_tuned_value = evaluation_results_best_LR_tuned[metric]\n",
    "    weighted_value = evaluation_results_weighted[metric]\n",
    "    print(f\"{metric:<20}{default_value:<20.6f}{best_tuned_value:<20.6f}{weighted_value:<20.6f}\")\n"
   ]
  },
  {
   "cell_type": "markdown",
   "metadata": {},
   "source": [
    "## SVM Model"
   ]
  },
  {
   "cell_type": "markdown",
   "metadata": {},
   "source": [
    "### Default Model"
   ]
  },
  {
   "cell_type": "code",
   "execution_count": 22,
   "metadata": {
    "execution": {
     "iopub.status.busy": "2023-08-20T07:11:57.749242Z",
     "iopub.status.idle": "2023-08-20T07:11:57.750103Z",
     "shell.execute_reply": "2023-08-20T07:11:57.749890Z",
     "shell.execute_reply.started": "2023-08-20T07:11:57.749875Z"
    }
   },
   "outputs": [],
   "source": [
    "# Train an SVM model\n",
    "svm = LinearSVC(featuresCol=\"features\", labelCol=\"label\", maxIter=100) \n",
    "svm_model = svm.fit(train)"
   ]
  },
  {
   "cell_type": "markdown",
   "metadata": {},
   "source": [
    "###  Fine-Tuning "
   ]
  },
  {
   "cell_type": "code",
   "execution_count": 23,
   "metadata": {
    "execution": {
     "iopub.status.busy": "2023-08-20T07:11:57.751028Z",
     "iopub.status.idle": "2023-08-20T07:11:57.751196Z",
     "shell.execute_reply": "2023-08-20T07:11:57.751113Z",
     "shell.execute_reply.started": "2023-08-20T07:11:57.751107Z"
    }
   },
   "outputs": [],
   "source": [
    "svm = LinearSVC(featuresCol=\"features\", labelCol=\"label\", maxIter=100)\n",
    "\n",
    "# Define the parameter grid for tuning\n",
    "param_grid = ParamGridBuilder() \\\n",
    "    .addGrid(svm.tol, [1e-4, 1e-5]) \\\n",
    "    .build()\n",
    "\n",
    "# Define the evaluator for model selection\n",
    "evaluator = BinaryClassificationEvaluator(rawPredictionCol=\"rawPrediction\", labelCol=\"label\", metricName=\"areaUnderROC\")\n",
    "\n",
    "# Create CrossValidator\n",
    "cross_val = CrossValidator(estimator=svm,\n",
    "                           estimatorParamMaps=param_grid,\n",
    "                           evaluator=evaluator,\n",
    "                           numFolds=5)  # Number of folds for cross-validation\n",
    "\n",
    "# Fit CrossValidator on train data\n",
    "cv_model = cross_val.fit(train)\n",
    "\n",
    "# Get the best LinearSVC model from the cross-validation\n",
    "best_svm_model = cv_model.bestModel"
   ]
  },
  {
   "cell_type": "markdown",
   "metadata": {},
   "source": [
    "### Evaluation"
   ]
  },
  {
   "cell_type": "code",
   "execution_count": 24,
   "metadata": {
    "execution": {
     "iopub.status.busy": "2023-08-20T07:11:57.753224Z",
     "iopub.status.idle": "2023-08-20T07:11:57.753697Z",
     "shell.execute_reply": "2023-08-20T07:11:57.753555Z",
     "shell.execute_reply.started": "2023-08-20T07:11:57.753542Z"
    }
   },
   "outputs": [],
   "source": [
    "# Evaluate models using the evaluate_model function\n",
    "evaluation_results_svm = evaluate_model(svm_model, test, 'SVM Model', process_label)\n",
    "evaluation_results_best_svm = evaluate_model(best_svm_model, test, 'Best SVM Model', process_label)\n",
    "\n",
    "print(\"Evaluation Results:\")\n",
    "print(f\"{'Metric':<20}{'SVM Model':<20}{'Best SVM Model':<20}\") \n",
    "print(\"=\" * 60)\n",
    "\n",
    "for metric, svm_value in evaluation_results_svm.items():\n",
    "    best_svm_value = evaluation_results_best_svm[metric]\n",
    "    print(f\"{metric:<20}{svm_value:<20.6f}{best_svm_value:<20.6f}\")"
   ]
  },
  {
   "cell_type": "markdown",
   "metadata": {},
   "source": [
    "## Random Forest Model"
   ]
  },
  {
   "cell_type": "markdown",
   "metadata": {},
   "source": [
    "### Default Model"
   ]
  },
  {
   "cell_type": "code",
   "execution_count": null,
   "metadata": {
    "execution": {
     "iopub.status.busy": "2023-08-20T07:11:57.756373Z",
     "iopub.status.idle": "2023-08-20T07:11:57.757227Z",
     "shell.execute_reply": "2023-08-20T07:11:57.756813Z",
     "shell.execute_reply.started": "2023-08-20T07:11:57.756796Z"
    }
   },
   "outputs": [],
   "source": [
    "# Train a RandomForest model\n",
    "default_rf = RandomForestClassifier(labelCol=\"label\", featuresCol=\"features\", seed=42)\n",
    "\n",
    "# Create a pipeline\n",
    "default_pipeline = Pipeline(stages=[default_rf])\n",
    "\n",
    "# Train the pipeline\n",
    "default_model = default_pipeline.fit(train)\n",
    "\n",
    "# Make predictions on the test data\n",
    "default_predictions = default_model.transform(test)\n"
   ]
  },
  {
   "cell_type": "markdown",
   "metadata": {},
   "source": [
    "###  Fine-Tuning "
   ]
  },
  {
   "cell_type": "code",
   "execution_count": null,
   "metadata": {
    "execution": {
     "iopub.status.busy": "2023-08-20T07:11:57.758727Z",
     "iopub.status.idle": "2023-08-20T07:11:57.759211Z",
     "shell.execute_reply": "2023-08-20T07:11:57.758961Z",
     "shell.execute_reply.started": "2023-08-20T07:11:57.758937Z"
    }
   },
   "outputs": [],
   "source": [
    "# pipeline = SparkDFPipeline(standardize=True)\n",
    "# FT_train, FT_test = pipeline.transform(train_df, test_df)\n",
    "\n",
    "# Train a RandomForest model\n",
    "tuned_rf = RandomForestClassifier(labelCol=\"label\", featuresCol=\"features\", seed=42)\n",
    "if process_label == 'Multi':\n",
    "    tuned_evaluator = MulticlassClassificationEvaluator(labelCol=\"label\", predictionCol=\"prediction\", metricName=\"accuracy\")\n",
    "elif process_label == 'Binary':\n",
    "    tuned_evaluator = BinaryClassificationEvaluator(labelCol=\"label\", rawPredictionCol=\"rawPrediction\")\n",
    "\n",
    "\n",
    "# Define the parameter grid\n",
    "param_grid = ParamGridBuilder() \\\n",
    "            .addGrid(tuned_rf.numTrees, [10,20,30]) \\\n",
    "            .addGrid(tuned_rf.maxDepth, [5,6,8]) \\\n",
    "            .addGrid(tuned_rf.impurity, ['gini']) \\\n",
    "            .build()\n",
    "\n",
    "# Create a CrossValidator instance                                                                                                                                                                      \n",
    "crossval = CrossValidator(estimator=tuned_rf,\n",
    "                          estimatorParamMaps=param_grid,\n",
    "                          evaluator=tuned_evaluator,\n",
    "                          numFolds=3)  # Number of cross-validation folds\n",
    "\n",
    "# Run cross-validation, and choose the best set of parameters\n",
    "cv_model = crossval.fit(train)\n",
    "best_model = cv_model.bestModel\n",
    "\n",
    "# Get the best parameters\n",
    "best_numTrees = best_model.getOrDefault('numTrees')\n",
    "best_maxDepth = best_model.getOrDefault('maxDepth')\n",
    "best_impurity = best_model.getOrDefault('impurity')\n",
    "\n",
    "# Print the best parameters\n",
    "print(\"Best numTrees:\", best_numTrees)\n",
    "print(\"Best maxDepth:\", best_maxDepth)\n",
    "print(\"Best impurity:\", best_impurity)\n",
    "\n",
    "# Make predictions on the test data\n",
    "best_predictions = best_model.transform(test)"
   ]
  },
  {
   "cell_type": "markdown",
   "metadata": {},
   "source": [
    "### Evaluation"
   ]
  },
  {
   "cell_type": "code",
   "execution_count": null,
   "metadata": {
    "execution": {
     "iopub.status.busy": "2023-08-20T07:11:57.761196Z",
     "iopub.status.idle": "2023-08-20T07:11:57.762364Z",
     "shell.execute_reply": "2023-08-20T07:11:57.762154Z",
     "shell.execute_reply.started": "2023-08-20T07:11:57.762126Z"
    }
   },
   "outputs": [],
   "source": [
    "# Evaluate models using the evaluate_model function\n",
    "evaluation_results_RF_default = evaluate_model(default_model, test, 'Default Model', process_label)  # Use the 'test' dataset\n",
    "\n",
    "evaluation_results_tuned = evaluate_model(best_model, test, 'Fine-Tuned Model',process_label)  # Use the 'test' dataset\n",
    "\n",
    "\n",
    "# Print evaluation results for both models side by side\n",
    "\n",
    "print(\"Evaluation Results:\")\n",
    "print(f\"{'Metric':<20}{'Default Model':<20}{'Fine-Tuned Model':<20}\")\n",
    "print(\"=\" * 60)\n",
    "\n",
    "for metric in evaluation_results_RF_default.keys():\n",
    "    default_value = evaluation_results_RF_default[metric]\n",
    "    tuned_value = evaluation_results_tuned[metric]\n",
    "    print(f\"{metric:<20}{default_value:<20.6f}{tuned_value:<20.6f}\")"
   ]
  },
  {
   "cell_type": "markdown",
   "metadata": {},
   "source": [
    "## Multilayer perceptron Model"
   ]
  },
  {
   "cell_type": "markdown",
   "metadata": {},
   "source": [
    "### Model"
   ]
  },
  {
   "cell_type": "code",
   "execution_count": null,
   "metadata": {
    "execution": {
     "iopub.status.busy": "2023-08-20T07:11:57.763993Z",
     "iopub.status.idle": "2023-08-20T07:11:57.765407Z",
     "shell.execute_reply": "2023-08-20T07:11:57.765004Z",
     "shell.execute_reply.started": "2023-08-20T07:11:57.764983Z"
    }
   },
   "outputs": [],
   "source": [
    "input_length = len(train.select('features').collect()[0][0])\n",
    "output_length = train.select('label').distinct().count()\n",
    "\n",
    "mlp = MultilayerPerceptronClassifier(seed=42, maxIter=100, stepSize=0.001)\n",
    "evaluator = MulticlassClassificationEvaluator(metricName='accuracy')\n",
    "\n",
    "# For binary classification\n",
    "paramGrid1 = ParamGridBuilder() \\\n",
    "             .addGrid(mlp.layers, [\n",
    "                    [input_length, 16, 16, 16, output_length],\n",
    "                    [input_length, 32, 25, output_length],\n",
    "             ]) \\\n",
    "             .build()\n",
    "\n",
    "# For multi-class classification\n",
    "paramGrid2 = ParamGridBuilder() \\\n",
    "             .addGrid(mlp.layers, [\n",
    "                    [input_length, 26, 17, output_length],\n",
    "                    [input_length, 27, 14, output_length],\n",
    "                 # Add more layer combinations as needed\n",
    "             ]) \\\n",
    "             .build()\n",
    "\n",
    "if process_label == 'Binary':\n",
    "       crossval = CrossValidator(estimator=mlp,\n",
    "                          estimatorParamMaps=paramGrid1,\n",
    "                          evaluator=evaluator,\n",
    "                          numFolds=3) \n",
    "else:\n",
    "       crossval = CrossValidator(estimator=mlp,\n",
    "                          estimatorParamMaps=paramGrid2,\n",
    "                          evaluator=evaluator,\n",
    "                          numFolds=3) \n",
    "\n",
    "cv_model = crossval.fit(train)\n",
    "ANN_best_model = cv_model.bestModel\n",
    "best_params = ANN_best_model.extractParamMap()"
   ]
  },
  {
   "cell_type": "code",
   "execution_count": null,
   "metadata": {
    "execution": {
     "iopub.status.busy": "2023-08-20T07:11:57.767113Z",
     "iopub.status.idle": "2023-08-20T07:11:57.767813Z",
     "shell.execute_reply": "2023-08-20T07:11:57.767205Z",
     "shell.execute_reply.started": "2023-08-20T07:11:57.767198Z"
    }
   },
   "outputs": [],
   "source": [
    "# Show the best parameters for the model\n",
    "param_list = [(param.name, value) for param, value in best_params.items()]\n",
    "shortened_output = \"\\n\".join([f\"{param}: {value}\" for param, value in param_list])\n",
    "print(shortened_output)"
   ]
  },
  {
   "cell_type": "markdown",
   "metadata": {},
   "source": [
    "### Evaluation"
   ]
  },
  {
   "cell_type": "code",
   "execution_count": null,
   "metadata": {
    "execution": {
     "iopub.status.busy": "2023-08-20T07:11:57.769033Z",
     "iopub.status.idle": "2023-08-20T07:11:57.769960Z",
     "shell.execute_reply": "2023-08-20T07:11:57.769637Z",
     "shell.execute_reply.started": "2023-08-20T07:11:57.769617Z"
    },
    "slideshow": {
     "slide_type": ""
    },
    "tags": []
   },
   "outputs": [],
   "source": [
    "# Model evaluation\n",
    "evaluation_results_ANN = evaluate_model(ANN_best_model, test, 'ANN Model', process_label)\n",
    "\n",
    "print(\"Evaluation Results:\")\n",
    "print(f\"{'Metric':<20}{'ANN Model':<20}\")\n",
    "print(\"=\" * 60)\n",
    "\n",
    "for metric in evaluation_results_ANN.keys():\n",
    "    default_value = evaluation_results_ANN[metric]\n",
    "    print(f\"{metric:<20}{default_value:<20.6f}\")"
   ]
  },
  {
   "cell_type": "code",
   "execution_count": null,
   "metadata": {},
   "outputs": [],
   "source": []
  }
 ],
 "metadata": {
  "kernelspec": {
   "display_name": "Python 3 (ipykernel)",
   "language": "python",
   "name": "python3"
  },
  "language_info": {
   "codemirror_mode": {
    "name": "ipython",
    "version": 3
   },
   "file_extension": ".py",
   "mimetype": "text/x-python",
   "name": "python",
   "nbconvert_exporter": "python",
   "pygments_lexer": "ipython3",
   "version": "3.10.12"
  }
 },
 "nbformat": 4,
 "nbformat_minor": 4
}
